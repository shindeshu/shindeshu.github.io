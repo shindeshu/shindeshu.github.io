{
 "cells": [
  {
   "cell_type": "raw",
   "id": "4350be3a",
   "metadata": {},
   "source": [
    "---\n",
    "title: \"Why Data Scientists Should Write Tests\"\n",
    "description: \"Importance of this oft-forgotten tool that is too powerful.\"\n",
    "author: \"Shubham Shinde\"\n",
    "date: \"01/22/2023\"\n",
    "draft: false\n",
    "categories:\n",
    "  - data-science\n",
    "  - coding\n",
    "---"
   ]
  },
  {
   "cell_type": "markdown",
   "id": "1de4c4bd",
   "metadata": {},
   "source": [
    "## The Jupyter Habitat\n",
    "\n",
    "![*It is natural to use Jupyter*](assets/habitat.JPG){width=60%}\n",
    "\n",
    "For a data scientist, jupyter notebooks are a natural habitat. They're usually the first step in any project, and it's the arena where thousands of lines of code are written, erased and forgotten forever in dumpgrounds. Data science is very exploratory in nature, because of which rapid iteration is necessary to build projects, which is exactly why notebooks are so popular. Constant experimentation and changes are a part of the job.\n",
    "\n",
    "Yet as time passes and the project increases in scope, you find yourself moving away from a notebooks appraoch. There are many reasons why you'd switch to a traditional repo over a notebook. \n",
    "\n",
    "## Jupyter No Longer\n",
    "### Project Grows in Scope.\n",
    "There is simply more stuff to do, more knobs and more switches. At first, you think a utils.py file will take care of it all. But quickly the utils.py swells in size, resembling a Lovecraftian horror of a thousand functions each doing some distinct operation.\n",
    "\n",
    "It is then you create modules for better delegating things and separation of operations. And the crisis is averted. For now.\n",
    "\n",
    "### Collaboration\n",
    "Notebooks are great for one contributor to keep tinkering, but it is not the best approach when working with a team. Having a distributed system can be beneficial since people focus on their part of the repo. Another reason to move away from notebooks.\n",
    "\n",
    "### Deployment\n",
    "While there have been newer tools to facilitate notebooks in production (`nbdev`  etc), deployment to production generally needs you to have all of your code in `.py` files. This is another reason to move to modules.\n",
    "\n",
    "## The Crisis of Rapid Iteration\n",
    "### Slowing Down\n",
    "\n",
    "![*Things become less fun*](assets/tuning.jpg){width=60%}\n",
    "\n",
    "Except, now that the pivot is complete, you find yourself more frustrated than before. When writing a notebook, we usually ignore what are called \"best practices\" since they slow us down. We keep ignoring such practices even as the work grows in scope, and problems start rising.\n",
    "\n",
    "Notebooks are a high velocity medium, which is their biggest strengths. You can quickly put together a bunch of code and get it running. You can quickly erase lines and add to make changes. It is a nimble, flexible craft.\n",
    "\n",
    "When you are not working on a single notebook, and you have a forest of modules feeding into your cursor, the velocity often takes a hit. You find out that making a single change is a lot more expensive now than it was before. Many things end up breaking, when earlier making changes was easy. To add some functionality, you end up thinking about all the potential modules that could break.\n",
    "\n",
    "This slows down the pace of development, and you end up captured in the web of your own local imports, scratching your heads through all the scripts present.\n",
    "\n",
    "### It's a Mess\n",
    "And there's another important reason why the pace is down- because your code is too convoluted. The classes you defined have low cohesion, i.e. they do all sorts of different things. The modules you've defined are extremely dependent on each other, i.e. high coupling. So when you make changes in one module, because of high dependencies, some other module ends up breaking as well.\n",
    "\n",
    "Managing the project architecture efficiently like this is an art that is learned through experience. If only there were simple disciplines, following which you could write better code. Turns out, writing tests can do that."
   ]
  },
  {
   "cell_type": "markdown",
   "id": "b3020583",
   "metadata": {},
   "source": [
    "## What are Tests?\n",
    "\n",
    "\n",
    "![](assets/test.jpg){width=60%}\n",
    "\n",
    "A few months ago, despite being 4 years into my professional journey, I had little idea about tests. It seemed like a software engineering concept that has no obvious application in a data science project. So if you're like me, here's a little primer about tests.\n",
    "\n",
    "If, after making a change to the codebase, you run the entire workflow to make sure it worked (or broke), you are already testing. Except less efficiently. Running the entire workflow can be time-consuming, and you don't want to run everything when you've made changes to only one section of the codebase. Plus, debugging can be tough. Tests are basically functions that you set up to check whether other modules are doing their job correctly.\n",
    "\n",
    "Here's an example of a function in the `transforms.py` file that does something."
   ]
  },
  {
   "cell_type": "code",
   "execution_count": null,
   "id": "fcbbab38",
   "metadata": {},
   "outputs": [],
   "source": [
    "def transform_data(df: pd.DataFrame) -> pd.DataFrame:\n",
    "    # run some transformation\n",
    "    return df"
   ]
  },
  {
   "cell_type": "markdown",
   "id": "f00c54ac",
   "metadata": {},
   "source": [
    "To create a test for this function (and others) create a file called `test_transforms.py`. Convention is to put all your tests inside a `tests/` folder at the top of the repo. Inside this file you can write"
   ]
  },
  {
   "cell_type": "code",
   "execution_count": null,
   "id": "598a90e2",
   "metadata": {},
   "outputs": [],
   "source": [
    "from src.transforms import transform_data\n",
    "\n",
    "def get_mock_data():\n",
    "    # create mock data\n",
    "    df = pd.DataFrame({}) \n",
    "\n",
    "def test_transform_data():\n",
    "    # the testing function should start with 'test_'\n",
    "    df = get_mock_data()\n",
    "    transformed_df = transform_data(df)\n",
    "    # assert that the transform has correctly been completed\n",
    "    # you can check any aspects that have been transformed\n",
    "    # assume that the number of columns are doubled in transformation.\n",
    "    assert len(transformed_df.columns) == 2*len(df.columns)"
   ]
  },
  {
   "cell_type": "markdown",
   "id": "cf7dcdeb",
   "metadata": {},
   "source": [
    "This test is completely isolated from the rest of the repo, so it's failure has only one reason, the function itself.\n",
    "\n",
    "Now you can run test this by three methods:\n",
    "\n",
    "```bash\n",
    "pytest tests/\n",
    "```\n",
    "Runs all the tests in the folder.\n",
    "```bash\n",
    "pytest tests/test_transforms.py\n",
    "```\n",
    "Runs only the tests on transforms\n",
    "```bash\n",
    "pytest tests.test_transforms.test_transform_data\n",
    "```\n",
    "Runs only this particular function."
   ]
  },
  {
   "cell_type": "markdown",
   "id": "4d2fcfcb",
   "metadata": {},
   "source": [
    "## Why Are Tests?\n",
    "\n",
    "### Write Tests to Improve Speed\n",
    "The single biggest reason why as data scientists need to write tests is that they are monumentally helpful in increasing the speed of experiments. Fast iteration is very important for a data scientist because we generally are constantly running experiments trying different ways to improve our models, trying a different architecture, tinkering with the pre-processing, etc.\n",
    "\n",
    "When you write unit tests, making changes becomes easier because now you have an easy way of validating whether your changes are breaking the code or not. Moreover, because you are writing tests for each unit, you can identify exactly which part of the codebase is being affected by your change. Now that certain parts of the codebase are anchored in your mind as unbreakable, you are free of the anxiety to go tinker on other units.\n",
    "\n",
    "### Write Tests for Better Code\n",
    "Second greatest reason is that writing tests help you write efficient code. Generally you shouldn't write a function that does more than one thing. But while developing, in the flow you could write such cronenberg functions. When you write unit tests, you find that you need to write distinct tests for the same function, which is an indicator that it can be decomposed.\n",
    "\n",
    "Similarly, writing tests help your code become orthogonal. You learn to write your code in such a manner that each unit is less dependent on other units. Which leads to modular, understandable code that is also very iteration-friendly. \n",
    "\n",
    "### Write Tests for Collaboration\n",
    "Working in a team needs some vigilance. How to know if a change someone else made isn't breaking down a routine specific to my task? Or vice versa? You simply write a test for your task, so your teammates can easily verify it themselves, reducing the feedback loop. Or you will waste time in to-and-fro clarifications.\n",
    "\n",
    "If you hand over your repo to someone else, like a new team or the deployment team, the tests are helpful to them too for quick onboarding.\n",
    "\n",
    "\n",
    "### Write Tests Because they're Easy and Cool\n",
    "In python, it's terribly easy to write tests thanks to the `pytest` library. Requires no syntax to learn, it's as easy as writing a function. Writing tests is cool, that's a fact. It also feels great when you run `pytest` on your code base and all of your cases pass in a flurry of green dots.\n",
    "\n",
    "This, in a nutshell, why data scientists should not ignore the power of tests."
   ]
  }
 ],
 "metadata": {
  "kernelspec": {
   "display_name": "Python 3 (ipykernel)",
   "language": "python",
   "name": "python3"
  },
  "language_info": {
   "codemirror_mode": {
    "name": "ipython",
    "version": 3
   },
   "file_extension": ".py",
   "mimetype": "text/x-python",
   "name": "python",
   "nbconvert_exporter": "python",
   "pygments_lexer": "ipython3",
   "version": "3.9.12"
  }
 },
 "nbformat": 4,
 "nbformat_minor": 5
}
