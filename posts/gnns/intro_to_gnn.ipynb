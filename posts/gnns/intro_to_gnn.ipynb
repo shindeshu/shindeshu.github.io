{
 "cells": [
  {
   "cell_type": "raw",
   "id": "2d7810ba",
   "metadata": {},
   "source": [
    "---\n",
    "title: \"A Brief Intro To Graph Neural Networks\"\n",
    "description: \"A brief, very brief, introduction to the hot field of graph neural networks.\"\n",
    "author: \"Shubham Shinde\"\n",
    "date: \"01/25/2022\"\n",
    "categories:\n",
    "  - deep-learning\n",
    "  - gnn\n",
    "---"
   ]
  },
  {
   "cell_type": "markdown",
   "id": "403cdc7d",
   "metadata": {},
   "source": [
    "![graph-img](graph_img.jpeg)"
   ]
  },
  {
   "cell_type": "markdown",
   "id": "17c51a1f",
   "metadata": {},
   "source": [
    "Deep Learning has revolutionized machine learning on all types of tasks ranging from computer vision to natural language processing or sequence modeling. Most of these applications however involve mostly euclidean data that are constrained to some fixed dimensions.\n",
    "\n",
    "What happens when your data is of non-euclidean nature? Graphs are one way to represent such non-euclidean data, which represent it in form of objects linked with each other through relationships. Machine learning using graphs has always been around, however with the advances in deep learning, recently there have been some exciting developments for learning on graphs.\n",
    "\n",
    "<img src=\"https://shindeshu.github.io/assets/images/euclidean.png\" width=\"600\" />\n",
    "\n",
    "What is a graph, you say? Graph is a set of vertices / nodes (our objects of interest), with edges (relationships between our objects). For example in a social media graph, an account would be a node, and them following someone could be an edge. Numerically, a graph can be represented as a matrix (adjacency), or as a list (of edges).\n",
    "\n",
    "What data can be represented in the form of graphs? A lot of it! Interactions on a social media site, financial transactions, citation networks, molecules, all these can be represented in the form of graphs and can then be leveraged for machine learning.\n",
    "\n",
    "Graph representation learning: when we do have a graph (i.e. our nodes, their features, their edges, *their* features), our objective is to learn embeddings for each node, such that two \"similar\" nodes will have their embeddings closer in space. This embedding for a node should bake into itself its relationships and its neighbourhood and their features (apart from its own). This embedding vector can then be used for our downstream tasks.\n",
    "\n",
    "<img src=\"https://shindeshu.github.io/assets/images/node_rep_learning.png\" width=\"600\" />\n",
    "\n",
    "Learning the embedding: while there are many ways to skin this particular cat, the one that's hot right now is called \"message passing\" or a graph convolution layer. The core concept is pretty simple. Lets say our current node of interest, has three neighbours. Each one of these will pass a \"message\" to our node, this message being the current state of the node. These messages will be aggregated together with our node's current state, and this will be used to update the node's state to next state. After covering for all nodes, you'd get a complete pass over the entire graph, for a single graph convolution layer. Different frameworks will have different ways of passing messages, or updating them, but the underlying principle is pretty same.\n",
    "\n",
    "The details of message passing, we'll go over in another post- since this is supposed to be a \"brief\" introduction.\n"
   ]
  }
 ],
 "metadata": {
  "kernelspec": {
   "display_name": "Python 3 (ipykernel)",
   "language": "python",
   "name": "python3"
  },
  "language_info": {
   "codemirror_mode": {
    "name": "ipython",
    "version": 3
   },
   "file_extension": ".py",
   "mimetype": "text/x-python",
   "name": "python",
   "nbconvert_exporter": "python",
   "pygments_lexer": "ipython3",
   "version": "3.9.12"
  }
 },
 "nbformat": 4,
 "nbformat_minor": 5
}
