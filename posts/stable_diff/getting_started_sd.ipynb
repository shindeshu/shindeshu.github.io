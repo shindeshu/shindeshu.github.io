{
 "cells": [
  {
   "cell_type": "raw",
   "id": "5df8d7a6",
   "metadata": {},
   "source": [
    "---\n",
    "title: \"Getting Started With Stable Diffusion\"\n",
    "description: \"I decided to get on with the generative AI hype, and here's what I found.\"\n",
    "author: \"Shubham Shinde\"\n",
    "date: \"11/25/2022\"\n",
    "draft: true\n",
    "categories:\n",
    "  - news\n",
    "  - code\n",
    "  - analysis\n",
    "---"
   ]
  },
  {
   "cell_type": "markdown",
   "id": "0a13a8bf",
   "metadata": {},
   "source": [
    "## Getting Started With Stable Diffusion"
   ]
  },
  {
   "cell_type": "markdown",
   "id": "b524d704",
   "metadata": {},
   "source": [
    "So I decided to get on with the generative AI hype train, and produce some cool pics. \n",
    "\n",
    "![](corgi.jpeg){width=40%}"
   ]
  },
  {
   "cell_type": "code",
   "execution_count": null,
   "id": "e06265d1",
   "metadata": {},
   "outputs": [],
   "source": []
  }
 ],
 "metadata": {
  "kernelspec": {
   "display_name": "Python 3 (ipykernel)",
   "language": "python",
   "name": "python3"
  },
  "language_info": {
   "codemirror_mode": {
    "name": "ipython",
    "version": 3
   },
   "file_extension": ".py",
   "mimetype": "text/x-python",
   "name": "python",
   "nbconvert_exporter": "python",
   "pygments_lexer": "ipython3",
   "version": "3.9.12"
  }
 },
 "nbformat": 4,
 "nbformat_minor": 5
}
