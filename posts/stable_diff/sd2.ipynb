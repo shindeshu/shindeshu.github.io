{
 "cells": [
  {
   "cell_type": "raw",
   "id": "fc1abc34",
   "metadata": {},
   "source": [
    "---\n",
    "title: \"Another Thing With Generative AI\"\n",
    "description: \"Deeper into my experiments.\"\n",
    "author: \"Shubham Shinde\"\n",
    "fig-cap-align: center\n",
    "date: \"11/25/2022\"\n",
    "draft: true\n",
    "categories:\n",
    "\n",
    "  - analysis\n",
    "---"
   ]
  },
  {
   "cell_type": "markdown",
   "id": "dfaf3d57",
   "metadata": {},
   "source": [
    "## The thing with Generative AI"
   ]
  },
  {
   "cell_type": "markdown",
   "id": "4e42d4a9",
   "metadata": {},
   "source": [
    "![An example of an AI-generated art](example2.png){width=50%}"
   ]
  },
  {
   "cell_type": "code",
   "execution_count": null,
   "id": "69cc8de5",
   "metadata": {},
   "outputs": [],
   "source": []
  }
 ],
 "metadata": {
  "kernelspec": {
   "display_name": "Python 3 (ipykernel)",
   "language": "python",
   "name": "python3"
  },
  "language_info": {
   "codemirror_mode": {
    "name": "ipython",
    "version": 3
   },
   "file_extension": ".py",
   "mimetype": "text/x-python",
   "name": "python",
   "nbconvert_exporter": "python",
   "pygments_lexer": "ipython3",
   "version": "3.9.12"
  }
 },
 "nbformat": 4,
 "nbformat_minor": 5
}
